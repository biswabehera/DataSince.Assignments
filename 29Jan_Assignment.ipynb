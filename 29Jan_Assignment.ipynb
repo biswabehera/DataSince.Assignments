{
 "cells": [
  {
   "cell_type": "code",
   "execution_count": 6,
   "id": "030676b8-0b87-425f-abeb-cd936a515bb8",
   "metadata": {},
   "outputs": [],
   "source": [
    "# Q1.Who developed Python programing language ?\n",
    "# Ans- Guido van Rossum"
   ]
  },
  {
   "cell_type": "code",
   "execution_count": null,
   "id": "ba0be940-6720-4b8c-9564-c91cf6a4b96f",
   "metadata": {},
   "outputs": [],
   "source": [
    "#Q2.Which type of programing does Python Supports ?\n",
    "#Ans- Object Oriented programing"
   ]
  },
  {
   "cell_type": "code",
   "execution_count": 3,
   "id": "0f5a7337-36fd-4445-b565-9e541c54e6bd",
   "metadata": {},
   "outputs": [],
   "source": [
    "#Q3.Is Python case sensitive while dealing with identifiers ?\n",
    "#Ans-Yes"
   ]
  },
  {
   "cell_type": "code",
   "execution_count": 4,
   "id": "d422f6da-128b-45ea-b24d-394de904a1a5",
   "metadata": {},
   "outputs": [],
   "source": [
    "#Q4.What is the correct extenssion of Python file ?\n",
    "#Ans- .py"
   ]
  },
  {
   "cell_type": "code",
   "execution_count": 7,
   "id": "de6025bd-612e-49d3-9f0e-a0615b70a6e9",
   "metadata": {},
   "outputs": [],
   "source": [
    "#Q5.Is Python code compiled or interpreted ?\n",
    "#Ans- Interpreted"
   ]
  },
  {
   "cell_type": "code",
   "execution_count": 8,
   "id": "59a64399-7e30-42d5-b8b1-00a2a5547a62",
   "metadata": {},
   "outputs": [],
   "source": [
    "#Q6.Name a few block of code used to define Python language ?\n",
    "#Ans- Module,Funtion Body,Class Definition"
   ]
  },
  {
   "cell_type": "code",
   "execution_count": 9,
   "id": "78c5a110-ec46-4cec-afa0-97a3ab3b83c5",
   "metadata": {},
   "outputs": [],
   "source": [
    "#Q7.State charactor used to give sinle line comments in Python ?\n",
    "#Ans- #"
   ]
  },
  {
   "cell_type": "code",
   "execution_count": 20,
   "id": "a28ebcb7-6d19-4a0f-8495-6f64630e5936",
   "metadata": {},
   "outputs": [
    {
     "name": "stdout",
     "output_type": "stream",
     "text": [
      "Current version - 3.10.6\n"
     ]
    }
   ],
   "source": [
    "#Q8.Mention the function which help us to find the version of python that we are currently working on ?\n",
    "#Ans- python_version()\n",
    "print( 'Current version -', python_version() )"
   ]
  },
  {
   "cell_type": "code",
   "execution_count": 1,
   "id": "e2d571ae-0da6-4ebe-8827-9a10557f8b75",
   "metadata": {},
   "outputs": [
    {
     "data": {
      "text/plain": [
       "40"
      ]
     },
     "execution_count": 1,
     "metadata": {},
     "output_type": "execute_result"
    }
   ],
   "source": [
    "#Q9.Python supports creation of anonymous functions at run time,using a constrcut called\n",
    "#Ans: lambda\n",
    "var = lambda a,b,c : a * b + c\n",
    "var( 2,5,30)"
   ]
  },
  {
   "cell_type": "code",
   "execution_count": 2,
   "id": "ebac3561-394d-41f2-b605-dd18abc3c683",
   "metadata": {},
   "outputs": [],
   "source": [
    "#Q10.What does pip stand for Python ?\n",
    "#Ans- \"pip\" is the standard package manger for Python, which is used to install and manage packages\n",
    "#     that are no part of standard library"
   ]
  },
  {
   "cell_type": "code",
   "execution_count": null,
   "id": "1a48f79f-6513-4bb1-9cec-b3995c15e880",
   "metadata": {},
   "outputs": [],
   "source": [
    "#Q11.Mention few buit in function in Python\n",
    "#Ans-   type() - return the type of the object\n",
    "#       Print() - Print the value\n",
    "#       len() - Returns the length of the object\n",
    "#       float() - Retruns the floating value\n",
    "#       slice() - Return the slice object"
   ]
  },
  {
   "cell_type": "code",
   "execution_count": 7,
   "id": "26bfb164-55aa-4dda-9b0b-138b274b3338",
   "metadata": {},
   "outputs": [
    {
     "data": {
      "text/plain": [
       "int"
      ]
     },
     "execution_count": 7,
     "metadata": {},
     "output_type": "execute_result"
    }
   ],
   "source": [
    "v = 2\n",
    "type( v )"
   ]
  },
  {
   "cell_type": "code",
   "execution_count": 8,
   "id": "67daf9b3-44de-4475-a41e-f77790bf8b21",
   "metadata": {},
   "outputs": [
    {
     "name": "stdout",
     "output_type": "stream",
     "text": [
      "Hi Sudhashu\n"
     ]
    }
   ],
   "source": [
    "print( 'Hi Sudhashu' )"
   ]
  },
  {
   "cell_type": "code",
   "execution_count": 12,
   "id": "cb8e4ea9-c680-46fb-9cdf-a4e4d62e55e7",
   "metadata": {},
   "outputs": [
    {
     "data": {
      "text/plain": [
       "2"
      ]
     },
     "execution_count": 12,
     "metadata": {},
     "output_type": "execute_result"
    }
   ],
   "source": [
    "L1 = ['Boy','Girl'] \n",
    "len(L1)"
   ]
  },
  {
   "cell_type": "code",
   "execution_count": 5,
   "id": "13f61790-a462-4e9a-a72c-b222327045a7",
   "metadata": {},
   "outputs": [
    {
     "data": {
      "text/plain": [
       "3.0"
      ]
     },
     "execution_count": 5,
     "metadata": {},
     "output_type": "execute_result"
    }
   ],
   "source": [
    "x = float(3)\n",
    "x"
   ]
  },
  {
   "cell_type": "code",
   "execution_count": 14,
   "id": "a742f604-116f-475e-b50e-3766de3f7388",
   "metadata": {},
   "outputs": [
    {
     "name": "stdout",
     "output_type": "stream",
     "text": [
      "('a', 'b')\n"
     ]
    }
   ],
   "source": [
    "a = (\"a\", \"b\", \"c\", \"d\", \"e\", \"f\", \"g\", \"h\")\n",
    "x = slice(2)\n",
    "print(a[x])"
   ]
  },
  {
   "cell_type": "code",
   "execution_count": 15,
   "id": "9a908f30-e7bc-44d3-9d31-d45f5e18dd48",
   "metadata": {},
   "outputs": [],
   "source": [
    "#Q12. What is the maximum possible length for an identifier in pYthon\n",
    "#Ans- 79"
   ]
  },
  {
   "cell_type": "code",
   "execution_count": 16,
   "id": "c844fc54-91c2-4a18-aa6a-aa91c9da1a52",
   "metadata": {},
   "outputs": [],
   "source": [
    "#Q13.What is the benifits of using Python\n",
    "#Ans -  simple and easy to understand\n",
    "#       free and open source\n",
    "#       portability\n",
    "#       interpreated language\n",
    "#       dynamically object type declaration  "
   ]
  },
  {
   "cell_type": "code",
   "execution_count": 18,
   "id": "d509bb7a-2411-46e5-8b9d-be891648e4fe",
   "metadata": {},
   "outputs": [],
   "source": [
    "#Q14. How is memory managed in Python ?\n",
    "#Ans- Python uses the dynamic memory allocation which is managed by the Heap data structure. \n",
    "#     Memory Heap holds the objects and other data structures that will be used in the program. \n",
    "#     Python memory manager manages the allocation or de-allocation of the heap memory space "
   ]
  },
  {
   "cell_type": "code",
   "execution_count": 20,
   "id": "e67544c6-9abd-4d75-8bdb-e14ec3cd461e",
   "metadata": {},
   "outputs": [],
   "source": [
    "#Q15. How to install Python in Windows and set path variables ?\n",
    "#Ans- Download the executable installer from www.python.org\n",
    "#     Run the instller to install python in PC\n",
    "#     In the system variable section edit the path variable to add the Python instal directory"
   ]
  },
  {
   "cell_type": "code",
   "execution_count": null,
   "id": "e69e0638-7478-4fc7-9890-8d6a03eb169b",
   "metadata": {},
   "outputs": [],
   "source": [
    "#Q16. Is intentation required in Python ?\n",
    "#Ans- Yes"
   ]
  }
 ],
 "metadata": {
  "kernelspec": {
   "display_name": "Python 3 (ipykernel)",
   "language": "python",
   "name": "python3"
  },
  "language_info": {
   "codemirror_mode": {
    "name": "ipython",
    "version": 3
   },
   "file_extension": ".py",
   "mimetype": "text/x-python",
   "name": "python",
   "nbconvert_exporter": "python",
   "pygments_lexer": "ipython3",
   "version": "3.10.6"
  }
 },
 "nbformat": 4,
 "nbformat_minor": 5
}
