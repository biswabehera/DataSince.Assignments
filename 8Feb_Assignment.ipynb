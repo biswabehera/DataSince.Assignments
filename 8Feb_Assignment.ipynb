{
 "cells": [
  {
   "cell_type": "markdown",
   "id": "6fa7d867-3ec1-455c-9587-b85d0a7fe93d",
   "metadata": {},
   "source": [
    "Q1. What is Abstraction in OOps? Explain with an example ?"
   ]
  },
  {
   "cell_type": "code",
   "execution_count": 1,
   "id": "ca1869ac-7c55-498f-86d7-0b02f0ad8330",
   "metadata": {},
   "outputs": [],
   "source": [
    "\"\"\"  Ans- In OOps abstraction is to hide the data or process from the real application . is defines a model to create an application.\n",
    "     In python abstract class is class which contains one or more abstart methods( which has no implementation ) \"\"\"\n",
    "import abc\n",
    "class cl_person_abs:\n",
    "    def __init__(self,im_id):\n",
    "        self.id = im_id\n",
    "    @abc.abstractmethod\n",
    "    def adress(self):\n",
    "        pass"
   ]
  },
  {
   "cell_type": "markdown",
   "id": "be62b1e3-4c10-4150-aaa0-6d16622180bd",
   "metadata": {},
   "source": [
    "Q2. Differentiate between Abstraction and Encapsulation. Explain with an example ?"
   ]
  },
  {
   "cell_type": "markdown",
   "id": "8920ba23-ccf7-4056-99c3-2d0bada65e59",
   "metadata": {},
   "source": [
    "Ans - abstraction is a method which hides implementation details to the user,\n",
    "          while data encapsulation is a method which helps to hide data from diffenrent classes or users \n"
   ]
  },
  {
   "cell_type": "markdown",
   "id": "0c699b7c-9511-4db3-8066-8da67faacffa",
   "metadata": {},
   "source": [
    "Q3. What is abc module in python? Why is it used?"
   ]
  },
  {
   "cell_type": "markdown",
   "id": "2edec327-5a5d-47f0-b5c7-c8acb4cf0b8a",
   "metadata": {},
   "source": [
    "Ans - its library provides the infrastructure for defining custom abstract base classes .\n",
    "      it is used to define abstract mehtods"
   ]
  },
  {
   "cell_type": "markdown",
   "id": "45b01e6e-8b5d-45d6-a798-1a67739e08b6",
   "metadata": {},
   "source": [
    "Q4. How can we achieve data abstraction?"
   ]
  },
  {
   "cell_type": "markdown",
   "id": "683cd08a-dd25-4e2f-bc2d-311cf32b11b2",
   "metadata": {},
   "source": [
    "Ans -  Abstraction can be achieved through creating abstract classes and inheriting them later"
   ]
  },
  {
   "cell_type": "markdown",
   "id": "abfb251d-7356-4733-bbb3-e85b1078fdc7",
   "metadata": {},
   "source": [
    "Q5. Can we create an instance of an abstract class? Explain your answer?"
   ]
  },
  {
   "cell_type": "markdown",
   "id": "85b373c5-f23f-4db0-b36c-f9cbecd5ca81",
   "metadata": {},
   "source": [
    "Ans - We can not directly instantiate an abstract class. because\n",
    "      it contains abstart methods which has no implementation or in complete state .\n",
    "      Conceptually its model to get the real time object of the abstract class , we need to create a child class by\n",
    "      inheriting the abstact class."
   ]
  },
  {
   "cell_type": "code",
   "execution_count": null,
   "id": "b1e3ddfd-686f-4f15-ab9b-014271b70369",
   "metadata": {},
   "outputs": [],
   "source": []
  }
 ],
 "metadata": {
  "kernelspec": {
   "display_name": "Python 3 (ipykernel)",
   "language": "python",
   "name": "python3"
  },
  "language_info": {
   "codemirror_mode": {
    "name": "ipython",
    "version": 3
   },
   "file_extension": ".py",
   "mimetype": "text/x-python",
   "name": "python",
   "nbconvert_exporter": "python",
   "pygments_lexer": "ipython3",
   "version": "3.10.6"
  }
 },
 "nbformat": 4,
 "nbformat_minor": 5
}
