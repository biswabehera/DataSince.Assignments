{
 "cells": [
  {
   "cell_type": "code",
   "execution_count": 1,
   "id": "cd2ad9c3-f438-410e-8f59-abd531953fad",
   "metadata": {},
   "outputs": [
    {
     "data": {
      "text/plain": [
       "[('Virat Kohli', 24936),\n",
       " ('Jack Kallis', 25534),\n",
       " ('Ricky Ponting', 27483),\n",
       " ('Sachin Tendulkar', 34357)]"
      ]
     },
     "execution_count": 1,
     "metadata": {},
     "output_type": "execute_result"
    }
   ],
   "source": [
    "#Q1. Create a python program to sort the given list of tuples based on integer value using a lambda function. \n",
    "lv_tuple = [('Sachin Tendulkar', 34357), ('Ricky Ponting', 27483), ('Jack Kallis', 25534), ('Virat Kohli', 24936)]\n",
    "list( sorted( lv_tuple, key = lambda x : x[1] ) )"
   ]
  },
  {
   "cell_type": "code",
   "execution_count": 2,
   "id": "64b9d88e-29fe-4a31-90b2-0ca973b2caeb",
   "metadata": {},
   "outputs": [
    {
     "data": {
      "text/plain": [
       "[1, 4, 9, 16, 25, 36, 49, 64, 81, 100]"
      ]
     },
     "execution_count": 2,
     "metadata": {},
     "output_type": "execute_result"
    }
   ],
   "source": [
    "#Q2. Write a Python Program to find the squares of all the numbers in the given list of integers using \n",
    "#    lambda and map functions.\n",
    "lv_list = [1, 2, 3, 4, 5, 6, 7, 8, 9, 10]\n",
    "list( map ( lambda x : x ** 2 ,lv_list ) )"
   ]
  },
  {
   "cell_type": "code",
   "execution_count": 3,
   "id": "bb6d676a-1f25-4074-946a-b2d1c9adf304",
   "metadata": {},
   "outputs": [
    {
     "data": {
      "text/plain": [
       "('1', '2', '3', '4', '5', '6', '7', '8', '9', '10')"
      ]
     },
     "execution_count": 3,
     "metadata": {},
     "output_type": "execute_result"
    }
   ],
   "source": [
    "#Q3. Write a python program to convert the given list of integers into a tuple of strings. Use map and \n",
    "# lambda functions\n",
    "lv_list_in = [1, 2, 3, 4, 5, 6, 7, 8, 9, 10]\n",
    "tuple( map( lambda x : str( x ) ,lv_list_in ) ) "
   ]
  },
  {
   "cell_type": "code",
   "execution_count": 8,
   "id": "641138d1-c2ca-478c-a195-102e6b7ea0b8",
   "metadata": {},
   "outputs": [
    {
     "data": {
      "text/plain": [
       "15511210043330985984000000"
      ]
     },
     "execution_count": 8,
     "metadata": {},
     "output_type": "execute_result"
    }
   ],
   "source": [
    "#Q4.  Write a python program using reduce function to compute the product of a list containing numbers \n",
    "#    from 1 to 25.\n",
    "from functools import reduce \n",
    "reduce( lambda x,y: x*y ,range(1,26) )"
   ]
  },
  {
   "cell_type": "code",
   "execution_count": 13,
   "id": "e98e2170-9022-4ea3-85d7-762ecafc0d7a",
   "metadata": {},
   "outputs": [
    {
     "data": {
      "text/plain": [
       "[9, 60, 120]"
      ]
     },
     "execution_count": 13,
     "metadata": {},
     "output_type": "execute_result"
    }
   ],
   "source": [
    "#Q5. Write a python program to filter the numbers in a given list that are divisible by 2 and 3 using the \n",
    "#    filter function.\n",
    "lv_list_x = [ 2, 3, 6, 9, 27, 60, 90, 120, 55, 46 ]\n",
    "list( filter ( lambda x : x & 2 == 0 and x % 3 == 0 , lv_list_x ) )"
   ]
  },
  {
   "cell_type": "code",
   "execution_count": 15,
   "id": "fa282723-d7e6-4324-a299-5d73ef5436fd",
   "metadata": {},
   "outputs": [
    {
     "data": {
      "text/plain": [
       "['php', 'aba', 'radar', 'level']"
      ]
     },
     "execution_count": 15,
     "metadata": {},
     "output_type": "execute_result"
    }
   ],
   "source": [
    "# Q6. Write a python program to find palindromes in the given list of strings using lambda and filter \n",
    "# function ?\n",
    "lv_list_p = ['python', 'php', 'aba', 'radar', 'level']\n",
    "list( filter ( lambda x : x == x[::-1],lv_list_p ) )\n"
   ]
  },
  {
   "cell_type": "code",
   "execution_count": null,
   "id": "9ab2d9ee-3484-437c-b43e-a9351aedbeac",
   "metadata": {},
   "outputs": [],
   "source": []
  }
 ],
 "metadata": {
  "kernelspec": {
   "display_name": "Python 3 (ipykernel)",
   "language": "python",
   "name": "python3"
  },
  "language_info": {
   "codemirror_mode": {
    "name": "ipython",
    "version": 3
   },
   "file_extension": ".py",
   "mimetype": "text/x-python",
   "name": "python",
   "nbconvert_exporter": "python",
   "pygments_lexer": "ipython3",
   "version": "3.10.6"
  }
 },
 "nbformat": 4,
 "nbformat_minor": 5
}
