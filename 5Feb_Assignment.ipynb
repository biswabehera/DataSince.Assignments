{
 "cells": [
  {
   "cell_type": "markdown",
   "id": "ba9bd99e-7fec-44b1-8005-f756c2f13cc2",
   "metadata": {},
   "source": [
    "Q1. Explain Class and Object with respect to Object-Oriented Programming. Give a suitable example?"
   ]
  },
  {
   "cell_type": "markdown",
   "id": "8bbb02c6-1dbd-4703-932a-3b317692c61c",
   "metadata": {},
   "source": [
    "Ans - Class is the classification of real time entity.\n",
    "      Object is the instance of the class"
   ]
  },
  {
   "cell_type": "markdown",
   "id": "9f014ba1-647b-4411-bdda-61240a51fc34",
   "metadata": {},
   "source": [
    "Q2. Name the four pillars of OOPs ?"
   ]
  },
  {
   "cell_type": "markdown",
   "id": "8d6327a0-cd64-4c9e-83e2-e4b805bed7ed",
   "metadata": {},
   "source": [
    "Ans - Inheritance, Polymorphism, Encapsulation and Abstraction"
   ]
  },
  {
   "cell_type": "markdown",
   "id": "9a4646ba-3257-48b6-b833-a153d6db1b90",
   "metadata": {},
   "source": [
    "Q3. Explain why the __init__() function is used. Give a suitable example ?"
   ]
  },
  {
   "cell_type": "markdown",
   "id": "c3c17878-fb75-49a8-8503-169b635996d2",
   "metadata": {},
   "source": [
    "Ans - It is the constructor class which get called while intantiate any object"
   ]
  },
  {
   "cell_type": "code",
   "execution_count": 1,
   "id": "b3741111-6696-4cd0-8258-25957d757cee",
   "metadata": {},
   "outputs": [],
   "source": [
    "class cl_pws:\n",
    "    def __init__(self,im_name,im_id):\n",
    "        self.name = im_name\n",
    "        self.id   = im_id"
   ]
  },
  {
   "cell_type": "markdown",
   "id": "418168f9-37a6-4134-993f-e2aa8342694e",
   "metadata": {},
   "source": [
    "Q4. Why self is used in OOPs?"
   ]
  },
  {
   "cell_type": "markdown",
   "id": "f313bdb6-1717-470a-9818-37a67e4c42b4",
   "metadata": {},
   "source": [
    "Ans - self parameter is a reference to the current instance of the class"
   ]
  },
  {
   "cell_type": "markdown",
   "id": "61b3c4e7-feb9-4eb5-b6ed-5b7e4c98d63a",
   "metadata": {},
   "source": [
    "Q5. What is inheritance? Give an example for each type of inheritance"
   ]
  },
  {
   "cell_type": "markdown",
   "id": "72406d32-7f62-4421-9091-2057af202666",
   "metadata": {},
   "source": [
    "Ans - Inheritance allows us to define a class that inherits all the methods \n",
    "     and properties from another class ?"
   ]
  },
  {
   "cell_type": "code",
   "execution_count": null,
   "id": "2b1f66f8-145c-44be-a56b-e52204e07b07",
   "metadata": {},
   "outputs": [],
   "source": []
  }
 ],
 "metadata": {
  "kernelspec": {
   "display_name": "Python 3 (ipykernel)",
   "language": "python",
   "name": "python3"
  },
  "language_info": {
   "codemirror_mode": {
    "name": "ipython",
    "version": 3
   },
   "file_extension": ".py",
   "mimetype": "text/x-python",
   "name": "python",
   "nbconvert_exporter": "python",
   "pygments_lexer": "ipython3",
   "version": "3.10.6"
  }
 },
 "nbformat": 4,
 "nbformat_minor": 5
}
