{
 "cells": [
  {
   "cell_type": "markdown",
   "id": "1eead153-90e7-49b4-994c-d3e9f9987f49",
   "metadata": {},
   "source": [
    "# Map"
   ]
  },
  {
   "cell_type": "code",
   "execution_count": 1,
   "id": "a1fc173b-4298-4d6f-9ce6-6c5d62317440",
   "metadata": {},
   "outputs": [],
   "source": [
    "# map calls the specfied fucntion for the gvien iterables"
   ]
  },
  {
   "cell_type": "code",
   "execution_count": 2,
   "id": "7f0a368d-29f0-4c2c-9ada-71feb6261bf0",
   "metadata": {},
   "outputs": [
    {
     "data": {
      "text/plain": [
       "[1, 4, 16, 9, 25, 81]"
      ]
     },
     "execution_count": 2,
     "metadata": {},
     "output_type": "execute_result"
    }
   ],
   "source": [
    "# get square of the elements inside a list\n",
    "lv_list = [1,2,4,3,5,9]\n",
    "def func_sqr(im_var):\n",
    "    return im_var ** 2\n",
    "list(map( func_sqr,lv_list))"
   ]
  },
  {
   "cell_type": "code",
   "execution_count": 3,
   "id": "c271c40d-c5c7-439c-bf65-41769474159d",
   "metadata": {},
   "outputs": [
    {
     "data": {
      "text/plain": [
       "[1, 4, 16, 9, 25, 81]"
      ]
     },
     "execution_count": 3,
     "metadata": {},
     "output_type": "execute_result"
    }
   ],
   "source": [
    "# other way\n",
    "list(map( lambda x : x**2,lv_list))"
   ]
  },
  {
   "cell_type": "code",
   "execution_count": 4,
   "id": "a0b047ad-85dc-4cc1-ab16-83db08314ea9",
   "metadata": {},
   "outputs": [
    {
     "data": {
      "text/plain": [
       "['K', 'R', 'I', 'S', 'H', 'N', 'A']"
      ]
     },
     "execution_count": 4,
     "metadata": {},
     "output_type": "execute_result"
    }
   ],
   "source": [
    "# convert a string to upercase using map\n",
    "lv_str = 'krishna'\n",
    "list(map( lambda x : x.upper( ),lv_str ))"
   ]
  },
  {
   "cell_type": "markdown",
   "id": "9e68628a-4b16-40a8-9cc7-a302e05d5ade",
   "metadata": {},
   "source": [
    "# Reduce"
   ]
  },
  {
   "cell_type": "code",
   "execution_count": 5,
   "id": "e304638d-af35-46c4-9802-d5fa3756c77b",
   "metadata": {},
   "outputs": [],
   "source": [
    "# reduce funcion will not be availabe by default\n",
    "#  we have to import it from fucntion library \"\"\"\n",
    "# reduce only take two parameters"
   ]
  },
  {
   "cell_type": "code",
   "execution_count": 6,
   "id": "3b507a8c-700c-46c2-9e53-f887d5f006fe",
   "metadata": {},
   "outputs": [],
   "source": [
    "from functools import reduce"
   ]
  },
  {
   "cell_type": "code",
   "execution_count": 7,
   "id": "15e03071-8259-4a36-b5d9-febac9ad0bef",
   "metadata": {},
   "outputs": [
    {
     "data": {
      "text/plain": [
       "24"
      ]
     },
     "execution_count": 7,
     "metadata": {},
     "output_type": "execute_result"
    }
   ],
   "source": [
    "reduce( lambda x,y:x+y,lv_list )"
   ]
  },
  {
   "cell_type": "code",
   "execution_count": 8,
   "id": "00ddc405-2c8e-470d-9425-5b6f97988f4e",
   "metadata": {},
   "outputs": [
    {
     "data": {
      "text/plain": [
       "'KRISHNA'"
      ]
     },
     "execution_count": 8,
     "metadata": {},
     "output_type": "execute_result"
    }
   ],
   "source": [
    "reduce( lambda x,y: x.upper( ) + y.upper( ),lv_str )"
   ]
  },
  {
   "cell_type": "code",
   "execution_count": 9,
   "id": "e647abae-6875-4d52-b074-a1e9180e458f",
   "metadata": {},
   "outputs": [
    {
     "data": {
      "text/plain": [
       "9"
      ]
     },
     "execution_count": 9,
     "metadata": {},
     "output_type": "execute_result"
    }
   ],
   "source": [
    "reduce( lambda x,y: x if x > y else y ,lv_list )"
   ]
  },
  {
   "cell_type": "markdown",
   "id": "ed6b8d6e-0054-47a1-815f-72539a68837c",
   "metadata": {},
   "source": [
    "# Filter"
   ]
  },
  {
   "cell_type": "code",
   "execution_count": 19,
   "id": "312e8a17-778c-48f5-835c-e14244f68ad8",
   "metadata": {},
   "outputs": [],
   "source": [
    "# filter calls the specfied fucntion for the gvien iterables\n",
    "# filter only takes one paramter"
   ]
  },
  {
   "cell_type": "code",
   "execution_count": 20,
   "id": "4c0b0b34-6f85-4bab-9bc2-e3434e0b8883",
   "metadata": {},
   "outputs": [
    {
     "data": {
      "text/plain": [
       "[2, 4]"
      ]
     },
     "execution_count": 20,
     "metadata": {},
     "output_type": "execute_result"
    }
   ],
   "source": [
    "# get even no from list\n",
    "list(filter( lambda x: x % 2 == 0,lv_list ) )"
   ]
  },
  {
   "cell_type": "code",
   "execution_count": 21,
   "id": "ba9b28f6-a62c-4f58-8f84-ea3baf646317",
   "metadata": {},
   "outputs": [
    {
     "data": {
      "text/plain": [
       "[1, 3, 5, 9]"
      ]
     },
     "execution_count": 21,
     "metadata": {},
     "output_type": "execute_result"
    }
   ],
   "source": [
    "# get odd no from list\n",
    "list(filter( lambda x: x % 2 != 0,lv_list))"
   ]
  },
  {
   "cell_type": "code",
   "execution_count": 22,
   "id": "3135dfb7-4abe-4ddd-b6ec-cbb3d8ee72d5",
   "metadata": {},
   "outputs": [
    {
     "data": {
      "text/plain": [
       "['biswa', 'behera']"
      ]
     },
     "execution_count": 22,
     "metadata": {},
     "output_type": "execute_result"
    }
   ],
   "source": [
    "lv_list1 = [ 'biswa' , 'kalyana','behera']\n",
    "# lets find the element have max characters\n",
    "list( filter ( lambda x: len(x) <= 6,lv_list1 ) )"
   ]
  },
  {
   "cell_type": "code",
   "execution_count": null,
   "id": "0de2b057-d90d-4e77-91e8-793ad1481c52",
   "metadata": {},
   "outputs": [],
   "source": []
  }
 ],
 "metadata": {
  "kernelspec": {
   "display_name": "Python 3 (ipykernel)",
   "language": "python",
   "name": "python3"
  },
  "language_info": {
   "codemirror_mode": {
    "name": "ipython",
    "version": 3
   },
   "file_extension": ".py",
   "mimetype": "text/x-python",
   "name": "python",
   "nbconvert_exporter": "python",
   "pygments_lexer": "ipython3",
   "version": "3.10.6"
  }
 },
 "nbformat": 4,
 "nbformat_minor": 5
}
