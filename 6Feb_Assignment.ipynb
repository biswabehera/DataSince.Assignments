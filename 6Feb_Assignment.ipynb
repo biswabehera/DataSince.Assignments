{
 "cells": [
  {
   "cell_type": "markdown",
   "id": "d2b7bfcd-c928-475c-a6b8-71f5dec1f8a9",
   "metadata": {},
   "source": [
    "Q1. Create a function which will take a list as an argument and return the product of all the numbers \n",
    "after creating a flat list ?"
   ]
  },
  {
   "cell_type": "code",
   "execution_count": 1,
   "id": "6ecf5653-d80f-4a48-a022-3a72f9893f06",
   "metadata": {},
   "outputs": [],
   "source": [
    "list1 = [1,2,3,4, [44,55,66, True], False, (34,56,78,89,34), {1,2,3,3,2,1}, {1:34, \"key2\": [55, 67, 78, 89], 4: (45, \n",
    "22, 61, 34)}, [56, 'data science'], 'Machine Learning']\n",
    "\n",
    "def num_finder_list(im_list):\n",
    "    \"\"\" Function Number finder in list \"\"\"\n",
    "    if type( im_list ) == list :\n",
    "        lv_list = []\n",
    "        for lv_value in im_list:\n",
    "            if type( lv_value ) == list:\n",
    "                lv_list.extend( num_finder_list(lv_value) )\n",
    "            elif type(lv_value ) == int or type(lv_value) == float:\n",
    "                lv_list.append( lv_value )\n",
    "        return lv_list\n",
    "    else : print( \" Wrong input type \" )\n",
    "\n",
    "def num_finder_tuple(im_tuple):\n",
    "    \"\"\" Function Number finder in Tuple \"\"\"\n",
    "    if type( im_tuple ) == tuple:\n",
    "        lv_list = []\n",
    "        for lv_value in im_tuple:\n",
    "            if type( lv_value ) == list:\n",
    "                lv_list.extend( num_finder_list(lv_value) )\n",
    "            elif type(lv_value ) == int or type(lv_value) == float:\n",
    "                lv_list.append( lv_value )\n",
    "        return lv_list\n",
    "    else : print( \" Wrong input type \" )\n",
    "def num_finder_set(im_set):\n",
    "    \"\"\" Function Number finder in Set \"\"\"\n",
    "    if type(im_set) == set:\n",
    "        lv_list = []\n",
    "        for lv_value in im_set:\n",
    "            if type( lv_value ) == set:\n",
    "                lv_list.extend( num_finder_tuple(lv_value) )\n",
    "            elif type(lv_value) == int or type(lv_value) == float:\n",
    "                lv_list.append(lv_value)\n",
    "        return lv_list\n",
    "    else : print( \" Wrong input type \" )\n",
    "    \n",
    "def num_finder_dict(im_dict):\n",
    "    \"\"\" Function Number finder in Dictionary \"\"\"\n",
    "    if type(im_dict) == dict:\n",
    "        lv_list = []\n",
    "        for lv_value in im_dict.values():\n",
    "            if type( lv_value ) == list:\n",
    "                lv_list.extend( num_finder_list(lv_value) )\n",
    "            elif type( lv_value ) == set:\n",
    "                lv_list.extend( num_finder_set(lv_value) )\n",
    "            elif type( lv_value ) == tuple:\n",
    "                lv_list.extend( num_finder_tuple(lv_value) )\n",
    "            elif type(lv_value) == int or type(lv_value) == float:\n",
    "                lv_list.append(lv_value)\n",
    "        return lv_list\n",
    "    else : print( \" Wrong input type \" )\n",
    "    \n",
    "def product(im_list):\n",
    "    \"\"\" This will collect all the numbers from the given list \"\"\"\n",
    "    final_list = []\n",
    "    for lv_value in im_list:\n",
    "        if type( lv_value ) == list: \n",
    "            final_list.extend( num_finder_list(lv_value) ) \n",
    "        elif type( lv_value ) == tuple: \n",
    "            final_list.extend( num_finder_tuple(lv_value)) \n",
    "        elif type( lv_value ) == set:\n",
    "            final_list.extend( num_finder_set(lv_value) ) \n",
    "        elif type( lv_value ) == dict:  \n",
    "            final_list.extend( num_finder_dict(lv_value) )\n",
    "        elif type(lv_value) == int or type(lv_value) == float:\n",
    "            final_list.append(lv_value)\n",
    "    \"\"\" Product calculation for the final list \"\"\"\n",
    "    from functools import reduce \n",
    "    lv_product = 0\n",
    "    lv_product = reduce( lambda x,y: x*y ,final_list )\n",
    "    return lv_product"
   ]
  },
  {
   "cell_type": "code",
   "execution_count": 2,
   "id": "c01be9e1-ea5f-4314-919d-c16ee483a3c8",
   "metadata": {},
   "outputs": [
    {
     "data": {
      "text/plain": [
       "1033677959746771369708460310528000"
      ]
     },
     "execution_count": 2,
     "metadata": {},
     "output_type": "execute_result"
    }
   ],
   "source": [
    "product( list1 )"
   ]
  },
  {
   "cell_type": "markdown",
   "id": "cda4db8f-00aa-4e6d-ae47-e33b41caf766",
   "metadata": {},
   "source": [
    "Q2. Write a python program for encrypting a message sent to you by your friend. The logic of encryption \n",
    "should be such that, for a the output should be z. For b, the output should be y. For c, the output should \n",
    "be x respectively. Also, the whitespace should be replaced with a dollar sign. Keep the punctuation \n",
    "marks unchanged ?"
   ]
  },
  {
   "cell_type": "code",
   "execution_count": 3,
   "id": "1a3df3dd-c823-4c94-b3bb-60d43d50857d",
   "metadata": {},
   "outputs": [
    {
     "name": "stdout",
     "output_type": "stream",
     "text": [
      "r dzmg gl yvxlnv z wzgz hxrvmgrhg.\n"
     ]
    }
   ],
   "source": [
    "import string\n",
    "lv_input = 'I want to become a Data Scientist.'\n",
    "lv_input = lv_input.lower( )\n",
    "lv_output = \"\"\n",
    "def aplhabet_converter(im_alphabet):\n",
    "    import string\n",
    "    lv_alphabet = \"\"\n",
    "    lv_index = 0\n",
    "    lv_alphabet = lv_alphabet + string.ascii_lowercase\n",
    "    lv_str = iter(lv_alphabet)   \n",
    "    lv_counter = 0\n",
    "    while True:\n",
    "        if next(lv_str) == im_alphabet:\n",
    "            lv_index = lv_counter\n",
    "            break\n",
    "        else : lv_counter += 1\n",
    "    return lv_alphabet[ 25 - lv_counter ]\n",
    "\n",
    "for lv_position in range(len(lv_input)):\n",
    "    if lv_input[lv_position] in string.whitespace or lv_input[lv_position] in string.punctuation:\n",
    "        lv_output = lv_output + lv_input[lv_position]\n",
    "    else : lv_output = lv_output + aplhabet_converter(lv_input[lv_position])\n",
    "print(lv_output)"
   ]
  }
 ],
 "metadata": {
  "kernelspec": {
   "display_name": "Python 3 (ipykernel)",
   "language": "python",
   "name": "python3"
  },
  "language_info": {
   "codemirror_mode": {
    "name": "ipython",
    "version": 3
   },
   "file_extension": ".py",
   "mimetype": "text/x-python",
   "name": "python",
   "nbconvert_exporter": "python",
   "pygments_lexer": "ipython3",
   "version": "3.10.6"
  }
 },
 "nbformat": 4,
 "nbformat_minor": 5
}
