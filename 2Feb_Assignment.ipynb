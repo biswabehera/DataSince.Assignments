{
 "cells": [
  {
   "cell_type": "code",
   "execution_count": 1,
   "id": "099f977c-4a33-48d0-b517-c021cbb175ea",
   "metadata": {},
   "outputs": [],
   "source": [
    "#Q1-When to use FOR loop and WHile loop . explain with example\n",
    "#Ans: FOR loop - when we have a collection(Set,Tuple,list ) or iterable object or a fucntion \n",
    "#     WHILE loop - when we have some data which will be iterated base on the condtion "
   ]
  },
  {
   "cell_type": "code",
   "execution_count": 3,
   "id": "c01ad450-b124-4c32-8321-08c99d45aaea",
   "metadata": {},
   "outputs": [
    {
     "data": {
      "text/plain": [
       "[1, 2, 3, 4, 5, 6, 8, 23, 44, 68, 77, 98]"
      ]
     },
     "execution_count": 3,
     "metadata": {},
     "output_type": "execute_result"
    }
   ],
   "source": [
    "# Ex : FOR loop\n",
    "l1 = [ 1,2,3,4,5,6,8,23,44,68,77,98]\n",
    "l2 = []\n",
    "for i in range( len(l1)):\n",
    "    l2.append(l1[i])\n",
    "l2"
   ]
  },
  {
   "cell_type": "code",
   "execution_count": 5,
   "id": "440695c1-e0b0-4799-a25c-ae28aa149251",
   "metadata": {},
   "outputs": [
    {
     "name": "stdout",
     "output_type": "stream",
     "text": [
      "55\n"
     ]
    }
   ],
   "source": [
    "# Ex: While loop\n",
    "result = 0\n",
    "count = 1\n",
    "while count <= 10:\n",
    "    result += count\n",
    "    count += 1\n",
    "else: print(result)\n",
    "      "
   ]
  },
  {
   "cell_type": "code",
   "execution_count": 35,
   "id": "02cbf307-78b4-44b3-b379-3c6db727741f",
   "metadata": {},
   "outputs": [
    {
     "name": "stdin",
     "output_type": "stream",
     "text": [
      "Electricity Units Consumed in this month 310\n"
     ]
    },
    {
     "name": "stdout",
     "output_type": "stream",
     "text": [
      "Electricity Units Consumed in this month  310\n",
      "Your bill for this month is  2250.0\n"
     ]
    }
   ],
   "source": [
    "#Q2- Program for House hold Electricity Bill\n",
    "#Ans :\n",
    "v_units = int(input(\"Electricity Units Consumed in this month\" ))\n",
    "v_ebill = float()                 \n",
    "for i in range(1,v_units + 1):\n",
    "    if i <= 100 : v_ebill = v_ebill + 4.5        \n",
    "    elif i > 100 and i <= 200 : v_ebill = v_ebill +  6\n",
    "    elif i > 200 and i <= 300 : v_ebill = v_ebill +  10\n",
    "    else :  v_ebill = v_ebill +  20\n",
    "print( \"Electricity Units Consumed in this month \",v_units )            \n",
    "print( 'Your bill for this month is ',v_ebill )"
   ]
  },
  {
   "cell_type": "code",
   "execution_count": 53,
   "id": "78890f94-b990-49ea-83e6-42aa97a91502",
   "metadata": {},
   "outputs": [
    {
     "name": "stdout",
     "output_type": "stream",
     "text": [
      "[2, 4, 5, 6, 8, 10, 12, 14, 15, 16, 18, 20, 22, 24, 25, 26, 28, 30, 32, 34, 35, 36, 38, 40, 42, 44, 45, 46, 48, 50, 52, 54, 55, 56, 58, 60, 62, 64, 65, 66, 68, 70, 72, 74, 75, 76, 78, 80, 82, 84, 85, 86, 88, 90, 92, 94, 95, 96, 98, 100]\n"
     ]
    }
   ],
   "source": [
    "#Q3 : Create program to prepare list with numbers from 1-100 and calculate cube of numbers\n",
    "#     if the cube is divisible by 4 or 5 then prepare a list and print\n",
    "#Ans : \n",
    "#l_num = list(range(1,101))\n",
    "l_output = []\n",
    "\n",
    "# using for loop\n",
    "for i in range(1,101):\n",
    "    if i ** 3  % 4 == 0 or i ** 3  % 5 == 0 : l_output.append(i)\n",
    "else :print(l_output)"
   ]
  },
  {
   "cell_type": "code",
   "execution_count": 58,
   "id": "fe6c2977-fbed-4030-9315-5e69c2737f4c",
   "metadata": {},
   "outputs": [
    {
     "name": "stdout",
     "output_type": "stream",
     "text": [
      "[2, 4, 5, 6, 8, 10, 12, 14, 15, 16, 18, 20, 22, 24, 25, 26, 28, 30, 32, 34, 35, 36, 38, 40, 42, 44, 45, 46, 48, 50, 52, 54, 55, 56, 58, 60, 62, 64, 65, 66, 68, 70, 72, 74, 75, 76, 78, 80, 82, 84, 85, 86, 88, 90, 92, 94, 95, 96, 98, 100]\n"
     ]
    }
   ],
   "source": [
    "# Using while loop\n",
    "l_output = []\n",
    "i = 1\n",
    "while i <= 100:\n",
    "    if i ** 3  % 4 == 0 or i ** 3  % 5 == 0 : l_output.append(i)\n",
    "    i += 1\n",
    "else :print(l_output)   "
   ]
  },
  {
   "cell_type": "code",
   "execution_count": 59,
   "id": "0c9fe15c-62d4-47fd-9cfb-2c1a7960e6b2",
   "metadata": {},
   "outputs": [
    {
     "name": "stdout",
     "output_type": "stream",
     "text": [
      "12\n"
     ]
    }
   ],
   "source": [
    "#Q Count vowels in the given string\n",
    "#Ans:\n",
    "v_str = 'I want to become a data scientist'\n",
    "v_vowels = 'AaEeIiOoUu'\n",
    "count = 0\n",
    "for char in v_str:\n",
    "    if char in v_vowels:count += 1\n",
    "else:print(count)\n"
   ]
  },
  {
   "cell_type": "code",
   "execution_count": null,
   "id": "3567f471-2ce5-4482-ad86-8e3a99d7d289",
   "metadata": {},
   "outputs": [],
   "source": []
  }
 ],
 "metadata": {
  "kernelspec": {
   "display_name": "Python 3 (ipykernel)",
   "language": "python",
   "name": "python3"
  },
  "language_info": {
   "codemirror_mode": {
    "name": "ipython",
    "version": 3
   },
   "file_extension": ".py",
   "mimetype": "text/x-python",
   "name": "python",
   "nbconvert_exporter": "python",
   "pygments_lexer": "ipython3",
   "version": "3.10.6"
  }
 },
 "nbformat": 4,
 "nbformat_minor": 5
}
