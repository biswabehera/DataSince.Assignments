{
 "cells": [
  {
   "cell_type": "code",
   "execution_count": 28,
   "id": "d0c77eeb-e97a-4443-8856-79ae7c36b9fb",
   "metadata": {},
   "outputs": [
    {
     "name": "stdin",
     "output_type": "stream",
     "text": [
      "What is your mark 78\n"
     ]
    },
    {
     "name": "stdout",
     "output_type": "stream",
     "text": [
      "Marks Entered =  78\n",
      "Your Grade is C\n"
     ]
    }
   ],
   "source": [
    "#Q1 / Grade display based on mark given\n",
    "marks = int(input( 'What is your mark' ))\n",
    "print('Marks Entered = ',marks)\n",
    "if marks > 90 : print( 'Your Grade is A ' )\n",
    "elif marks > 80 and marks <= 90: print('Your Grade is B' )\n",
    "elif marks > 60 and marks <= 80: print('Your Grade is C' )\n",
    "else :print('Your Grade is D' )"
   ]
  },
  {
   "cell_type": "code",
   "execution_count": 26,
   "id": "5859453d-8034-4bd3-9dcc-f4e48bafe3bf",
   "metadata": {},
   "outputs": [
    {
     "name": "stdin",
     "output_type": "stream",
     "text": [
      "What is the bike price 564789\n"
     ]
    },
    {
     "name": "stdout",
     "output_type": "stream",
     "text": [
      "Bike price entered =  564789.0\n",
      "You have to pay road tax- 84718.35\n"
     ]
    }
   ],
   "source": [
    "#Q2 Display Road tax for the given bike price\n",
    "price = float(input( 'What is the bike price' ))\n",
    "print('Bike price entered = ',price)\n",
    "if price > 0 :\n",
    "    if price > 100000 : print( 'You have to pay road tax-', round(price/100 * 15,2))\n",
    "    elif price > 50000 and price <= 100000 : print( 'You have to pay road tax-', round(price/100 * 10,2))\n",
    "    else : print( 'You have to pay road tax-', round(price/100 * 5,2 ))\n",
    "else : print( 'Bike price can not be',price )"
   ]
  },
  {
   "cell_type": "code",
   "execution_count": 27,
   "id": "b2b0a826-9852-4af5-a4f6-1e3cf753954c",
   "metadata": {},
   "outputs": [
    {
     "name": "stdin",
     "output_type": "stream",
     "text": [
      "City you are intrested Agra\n"
     ]
    },
    {
     "name": "stdout",
     "output_type": "stream",
     "text": [
      "City intrested =  Agra\n",
      "You can visit 'Taj Mahal'\n"
     ]
    }
   ],
   "source": [
    "#Q3 Display monuments of the city\n",
    "city = input( 'City you are intrested' )\n",
    "print('City intrested = ',city)\n",
    "if city == 'Delhi' : print(\"You can visit 'Red Fort'\")\n",
    "elif city == 'Agra' : print(\"You can visit 'Taj Mahal'\")\n",
    "elif city == 'Jaipur' : print(\"You can visit 'Jal Mahal'\")\n",
    "else :print( 'No value found for this selection')"
   ]
  },
  {
   "cell_type": "code",
   "execution_count": 23,
   "id": "3ecf4f8f-b771-41a4-ac90-31e9f94ce7b7",
   "metadata": {},
   "outputs": [
    {
     "name": "stdin",
     "output_type": "stream",
     "text": [
      "Number 456\n"
     ]
    },
    {
     "name": "stdout",
     "output_type": "stream",
     "text": [
      "Value enter = 456\n",
      "Count = 4\n"
     ]
    }
   ],
   "source": [
    "#Q4 check how many time a given number can divided by 3 before it is less than equal to 10\n",
    "number = int(input( 'Number'))\n",
    "print('Value enter =',number)\n",
    "count = 0\n",
    "if number > 10:\n",
    "    while ( number > 10 ):\n",
    "        count +=  1\n",
    "        number = number / 3\n",
    "    print('Count =',count)\n",
    "else :print( 'Number should be more than 10' )"
   ]
  },
  {
   "cell_type": "code",
   "execution_count": 29,
   "id": "b9b2ccfd-3f95-4a1d-a8a7-1b7cc49598a2",
   "metadata": {},
   "outputs": [
    {
     "name": "stdin",
     "output_type": "stream",
     "text": [
      "Give a Number 10\n"
     ]
    },
    {
     "name": "stdout",
     "output_type": "stream",
     "text": [
      "Number entered =  10\n"
     ]
    },
    {
     "name": "stdin",
     "output_type": "stream",
     "text": [
      "Give a Number 20\n"
     ]
    },
    {
     "name": "stdout",
     "output_type": "stream",
     "text": [
      "Number entered =  20\n"
     ]
    },
    {
     "name": "stdin",
     "output_type": "stream",
     "text": [
      "Give a Number 39\n"
     ]
    },
    {
     "name": "stdout",
     "output_type": "stream",
     "text": [
      "Number entered =  39\n"
     ]
    },
    {
     "name": "stdin",
     "output_type": "stream",
     "text": [
      "Give a Number -1\n"
     ]
    },
    {
     "name": "stdout",
     "output_type": "stream",
     "text": [
      "Number entered =  -1\n"
     ]
    },
    {
     "name": "stdin",
     "output_type": "stream",
     "text": [
      "Give a Number 0\n"
     ]
    },
    {
     "name": "stdout",
     "output_type": "stream",
     "text": [
      "Number entered =  0\n",
      "Total = 68\n"
     ]
    }
   ],
   "source": [
    "#Q5 Why and When to use while loop, with example\n",
    "#Ans -  if you want to execute a block code till a certain condition is true then use while loop\n",
    "# EX- Program to calculate the sum of numbers till user inout 0\n",
    "total = 0\n",
    "number = int(input('Give a Number'))\n",
    "print('Number entered = ',number )\n",
    "while number != 0:\n",
    "    total = total + number \n",
    "    number = int(input('Give a Number'))\n",
    "    print('Number entered = ',number )\n",
    "\n",
    "print('Total =',total)"
   ]
  },
  {
   "cell_type": "code",
   "execution_count": 15,
   "id": "c2f4e051-6407-4cd3-a16a-0cccb54f8c02",
   "metadata": {},
   "outputs": [
    {
     "name": "stdout",
     "output_type": "stream",
     "text": [
      "L1\n",
      "L2\n",
      "L3\n",
      "L3\n",
      "L3\n",
      "L2\n",
      "L3\n",
      "L3\n",
      "L3\n"
     ]
    }
   ],
   "source": [
    "#Q6 Use nested while loop to print 3 different patterns\n",
    "l1 = 1\n",
    "while l1 < 2 :\n",
    "    print( 'L1')\n",
    "    l1 += 1\n",
    "    l2 = 1\n",
    "    while l2 < 3 :\n",
    "        print( 'L2')\n",
    "        l2+= 1\n",
    "        l3 = 1\n",
    "        while l3 < 4 :\n",
    "            print( 'L3')\n",
    "            l3+=1"
   ]
  },
  {
   "cell_type": "code",
   "execution_count": 20,
   "id": "8fcc4169-7956-41bc-9087-f3962209fc4d",
   "metadata": {},
   "outputs": [
    {
     "name": "stdout",
     "output_type": "stream",
     "text": [
      "10\n",
      "9\n",
      "8\n",
      "7\n",
      "6\n",
      "5\n",
      "4\n",
      "3\n",
      "2\n",
      "1\n"
     ]
    }
   ],
   "source": [
    "#Q7 Reverse a while loop to display no 10 to 1\n",
    "number = 10\n",
    "while number != 0 :\n",
    "    print(number)\n",
    "    number -= 1"
   ]
  },
  {
   "cell_type": "code",
   "execution_count": null,
   "id": "009a01d4-e63e-4ea9-910d-693a4946e0dd",
   "metadata": {},
   "outputs": [],
   "source": []
  }
 ],
 "metadata": {
  "kernelspec": {
   "display_name": "Python 3 (ipykernel)",
   "language": "python",
   "name": "python3"
  },
  "language_info": {
   "codemirror_mode": {
    "name": "ipython",
    "version": 3
   },
   "file_extension": ".py",
   "mimetype": "text/x-python",
   "name": "python",
   "nbconvert_exporter": "python",
   "pygments_lexer": "ipython3",
   "version": "3.10.6"
  }
 },
 "nbformat": 4,
 "nbformat_minor": 5
}
